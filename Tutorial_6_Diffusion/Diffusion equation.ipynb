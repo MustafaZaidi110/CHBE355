{
 "cells": [
  {
   "cell_type": "code",
   "execution_count": 27,
   "metadata": {},
   "outputs": [
    {
     "data": {
      "application/vnd.jupyter.widget-view+json": {
       "model_id": "82a4d55d55ca48f682f8656561ac0ced",
       "version_major": 2,
       "version_minor": 0
      },
      "text/html": [
       "<p>Failed to display Jupyter Widget of type <code>interactive</code>.</p>\n",
       "<p>\n",
       "  If you're reading this message in the Jupyter Notebook or JupyterLab Notebook, it may mean\n",
       "  that the widgets JavaScript is still loading. If this message persists, it\n",
       "  likely means that the widgets JavaScript library is either not installed or\n",
       "  not enabled. See the <a href=\"https://ipywidgets.readthedocs.io/en/stable/user_install.html\">Jupyter\n",
       "  Widgets Documentation</a> for setup instructions.\n",
       "</p>\n",
       "<p>\n",
       "  If you're reading this message in another frontend (for example, a static\n",
       "  rendering on GitHub or <a href=\"https://nbviewer.jupyter.org/\">NBViewer</a>),\n",
       "  it may mean that your frontend doesn't currently support widgets.\n",
       "</p>\n"
      ],
      "text/plain": [
       "interactive(children=(FloatSlider(value=1.0, description='nu', max=2.0), Output()), _dom_classes=('widget-interact',))"
      ]
     },
     "metadata": {},
     "output_type": "display_data"
    },
    {
     "data": {
      "text/plain": [
       "<function __main__.calc_heat>"
      ]
     },
     "execution_count": 27,
     "metadata": {},
     "output_type": "execute_result"
    }
   ],
   "source": [
    "import numpy as np               #loading our favorite library\n",
    "import matplotlib.pyplot as plt   #and the useful plotting library\n",
    "plt.style.use('presentation')\n",
    "%matplotlib inline\n",
    "from IPython.html.widgets import interact\n",
    "from IPython.display import clear_output, display, HTML\n",
    "def calc_heat(nu):\n",
    "    nx = 41\n",
    "    dx = 2 / (nx - 1)\n",
    "    nt = 20    #the number of timesteps we want to calculate\n",
    "    # nu = 0.3   #the value of viscosity\n",
    "    sigma = .2 #sigma is a parameter, we'll learn more about it later\n",
    "#     dt = sigma * dx**2 / nu #dt is defined using sigma ... more later!\n",
    "    dt = dx**2 #dt is defined using sigma ... more later!\n",
    "\n",
    "\n",
    "    u = np.ones(nx)      #a numpy array with nx elements all equal to 1.\n",
    "    u[int(.5 / dx):int(1 / dx + 1)] = 2  #setting u = 2 between 0.5 and 1 as per our I.C.s\n",
    "    \n",
    "    plt.plot(np.linspace(0, 2, nx), u,'k--');\n",
    "\n",
    "    un = np.ones(nx) #our placeholder array, un, to advance the solution in time\n",
    "\n",
    "    for n in range(nt):  #iterate through time\n",
    "        un = u.copy() ##copy the existing values of u into un\n",
    "        for i in range(1, nx - 1):\n",
    "            u[i] = un[i] + nu * dt / dx**2 * (un[i+1] - 2 * un[i] + un[i-1])\n",
    "            u[0] = 1\n",
    "            u[-1] = 1\n",
    "    plt.plot(np.linspace(0, 2, nx), u,'r--');\n",
    "    plt.xlabel('x')\n",
    "    plt.ylabel('T')\n",
    "\n",
    "    plt.xlim(0,2)\n",
    "    plt.ylim(1,2)\n",
    "    plt.show()\n",
    "    return None\n",
    "interact(calc_heat, nu=(0., 2, 0.1))\n",
    "\n",
    "\n",
    "# we may want to add the source term\n",
    "#  + \\ \n",
    "#                    dt*f(x[i], t[n])\n",
    "# works until 0.5"
   ]
  },
  {
   "cell_type": "markdown",
   "metadata": {},
   "source": [
    "https://www.youtube.com/watch?v=fGZwb5po3ZU\n",
    "\n",
    "http://lorenabarba.com/blog/cfd-python-12-steps-to-navier-stokes/"
   ]
  },
  {
   "cell_type": "code",
   "execution_count": 1,
   "metadata": {},
   "outputs": [],
   "source": [
    "import sympy\n",
    "sympy.init_printing()\n",
    "import matplotlib.pyplot as plt\n",
    "import numpy as np\n",
    "\n",
    "x = sympy.symbols('x')\n",
    "f = sympy.symbols('f', cls=sympy.Function)\n"
   ]
  },
  {
   "cell_type": "code",
   "execution_count": 2,
   "metadata": {},
   "outputs": [
    {
     "data": {
      "image/png": "[encoded data removed]",
      "text/latex": [
       "$$f{\\left (x \\right )}$$"
      ],
      "text/plain": [
       "f(x)"
      ]
     },
     "execution_count": 2,
     "metadata": {},
     "output_type": "execute_result"
    }
   ],
   "source": [
    "f(x)"
   ]
  },
  {
   "cell_type": "code",
   "execution_count": 3,
   "metadata": {},
   "outputs": [
    {
     "data": {
      "image/png": "[encoded data removed]",
      "text/latex": [
       "$$f{\\left (x \\right )} - e^{x}$$"
      ],
      "text/plain": [
       "        x\n",
       "f(x) - ℯ "
      ]
     },
     "execution_count": 3,
     "metadata": {},
     "output_type": "execute_result"
    }
   ],
   "source": [
    "f(x)- sympy.exp(x)"
   ]
  },
  {
   "cell_type": "code",
   "execution_count": 5,
   "metadata": {},
   "outputs": [
    {
     "data": {
      "image/png": "[encoded data removed]",
      "text/latex": [
       "$$\\frac{d}{d x} f{\\left (x \\right )} = - 2 f{\\left (x \\right )}$$"
      ],
      "text/plain": [
       "d                 \n",
       "──(f(x)) = -2⋅f(x)\n",
       "dx                "
      ]
     },
     "execution_count": 5,
     "metadata": {},
     "output_type": "execute_result"
    }
   ],
   "source": [
    "diff_eq = sympy.Eq(f(x).diff(x), -2*f(x))\n",
    "diff_eq"
   ]
  },
  {
   "cell_type": "code",
   "execution_count": 7,
   "metadata": {},
   "outputs": [
    {
     "data": {
      "image/png": "[encoded data removed]",
      "text/latex": [
       "$$f{\\left (x \\right )} = C_{1} e^{- 2 x}$$"
      ],
      "text/plain": [
       "           -2⋅x\n",
       "f(x) = C₁⋅ℯ    "
      ]
     },
     "execution_count": 7,
     "metadata": {},
     "output_type": "execute_result"
    }
   ],
   "source": [
    "soln = sympy.dsolve(diff_eq,f(x))\n",
    "soln"
   ]
  },
  {
   "cell_type": "code",
   "execution_count": 9,
   "metadata": {},
   "outputs": [
    {
     "data": {
      "image/png": "[encoded data removed]",
      "text/latex": [
       "$$\\left \\{ C_{1} : 1\\right \\}$$"
      ],
      "text/plain": [
       "{C₁: 1}"
      ]
     },
     "execution_count": 9,
     "metadata": {},
     "output_type": "execute_result"
    }
   ],
   "source": [
    "# f(0) = 1\n",
    "constants = sympy.solve([soln.rhs.subs(x,0) - 1])\n",
    "constants"
   ]
  },
  {
   "cell_type": "code",
   "execution_count": 13,
   "metadata": {},
   "outputs": [
    {
     "data": {
      "image/png": "[encoded data removed]",
      "text/latex": [
       "$$f{\\left (x \\right )} = e^{- 2 x}$$"
      ],
      "text/plain": [
       "        -2⋅x\n",
       "f(x) = ℯ    "
      ]
     },
     "execution_count": 13,
     "metadata": {},
     "output_type": "execute_result"
    }
   ],
   "source": [
    "C1 = sympy.symbols('C1')\n",
    "soln = soln.subs(constants)\n",
    "# soln = soln.subs({'C1':1})\n",
    "soln"
   ]
  },
  {
   "cell_type": "code",
   "execution_count": 17,
   "metadata": {},
   "outputs": [
    {
     "data": {
      "text/plain": [
       "[<matplotlib.lines.Line2D at 0x10bd73cc0>]"
      ]
     },
     "execution_count": 17,
     "metadata": {},
     "output_type": "execute_result"
    },
    {
     "data": {
      "image/png": "[encoded data removed]",
      "text/plain": [
       "<matplotlib.figure.Figure at 0x10a65f9e8>"
      ]
     },
     "metadata": {},
     "output_type": "display_data"
    }
   ],
   "source": [
    "x_array = np.linspace(0, 10, 100)\n",
    "# y_array = sympy.soln(x_array)\n",
    "func = sympy.lambdify(x, soln.rhs, 'numpy')\n",
    "y_array = func(x_array)\n",
    "plt.plot(x_array, y_array,'r--')"
   ]
  },
  {
   "cell_type": "code",
   "execution_count": 32,
   "metadata": {},
   "outputs": [
    {
     "data": {
      "text/plain": [
       "[<matplotlib.lines.Line2D at 0x115bae7b8>]"
      ]
     },
     "execution_count": 32,
     "metadata": {},
     "output_type": "execute_result"
    },
    {
     "name": "stderr",
     "output_type": "stream",
     "text": [
      "/Users/bazilevs/anaconda3/lib/python3.6/site-packages/matplotlib/figure.py:2022: UserWarning: This figure includes Axes that are not compatible with tight_layout, so results might be incorrect.\n",
      "  warnings.warn(\"This figure includes Axes that are not compatible \"\n"
     ]
    },
    {
     "data": {
      "image/png": "[encoded data removed]",
      "text/plain": [
       "<matplotlib.figure.Figure at 0x11651f240>"
      ]
     },
     "metadata": {},
     "output_type": "display_data"
    }
   ],
   "source": [
    "import sympy\n",
    "x, t, a, L = sympy.symbols('x t a L')\n",
    "u = x*(L-x)*5*t\n",
    "\n",
    "def pde(u):\n",
    "    return sympy.diff(u, t) - a*sympy.diff(u, x, x)\n",
    "\n",
    "f = sympy.simplify(pde(u))\n",
    "\n",
    "a = 0.3\n",
    "L = 2.\n",
    "u_exact = sympy.lambdify(\n",
    "    [x, t], u.subs('L', L).subs('a', a), modules='numpy')\n",
    "f = sympy.lambdify(\n",
    "    [x, t], f.subs('L', L).subs('a', a), modules='numpy')\n",
    "I = lambda x: u_exact(x, 0)\n",
    "\n",
    "x_array = np.linspace(0, 2.,41)\n",
    "plt.plot(x_array, f(x_array, 0.15),'r--')"
   ]
  },
  {
   "cell_type": "code",
   "execution_count": null,
   "metadata": {},
   "outputs": [],
   "source": []
  }
 ],
 "metadata": {
  "kernelspec": {
   "display_name": "Python 3",
   "language": "python",
   "name": "python3"
  },
  "language_info": {
   "codemirror_mode": {
    "name": "ipython",
    "version": 3
   },
   "file_extension": ".py",
   "mimetype": "text/x-python",
   "name": "python",
   "nbconvert_exporter": "python",
   "pygments_lexer": "ipython3",
   "version": "3.6.4"
  }
 },
 "nbformat": 4,
 "nbformat_minor": 2
}
