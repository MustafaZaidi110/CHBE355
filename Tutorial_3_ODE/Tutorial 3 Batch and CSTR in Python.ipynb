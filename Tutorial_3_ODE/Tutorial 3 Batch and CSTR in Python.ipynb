{
 "cells": [
  {
   "cell_type": "markdown",
   "metadata": {
    "slideshow": {
     "slide_type": "slide"
    }
   },
   "source": [
    "# Tutorial 3 applying our knowledge to solve Chem Reactor problems\n",
    "\n",
    "So we already know how to do the basic operations such as variable operations, loops, conditions, numpy operations, plotting\n",
    "\n",
    "Now it is time to use all of those together with other cool python modules to solve engineering problems.\n",
    "\n",
    "If you don't know how to do those problems it's ok, start small and make your way up.\n",
    "\n",
    "The easiest example we could do would be to analyze the chemical reaction kinetics in the simplest case:\n",
    "\n",
    "## Problem 1:\n",
    "\n",
    "*A -> B *\n",
    "\n",
    "We assume it is a first order reaction and we use the design equation from the Batch reactor:\n",
    "\n",
    "So that means that $-r_A = k C_A$.\n",
    "\n",
    "Lets assume $k = 10^{-3} 1/s$ and $C_A(t=0) = 10$ moles\n",
    "\n",
    "So we can expect that the half-time of A should be around 10000 seconds which is ~3 hours.\n",
    "\n",
    "Ok lets see that through Python.\n",
    "\n",
    "We want to track the concentration which we will call $y_A$.\n",
    "\n",
    "$dy_A/dt = - k C_A = -k y_A$\n",
    "\n",
    "Main thing that we need to use here is the ODEINT module:\n",
    "\n",
    "`from scipy.integrate import odeint`\n",
    "\n",
    "In this module if you have an equation $\\frac{dy}{dt} = f(y,t)$ you need:\n",
    "\n",
    "- To define at least the Python function f which implements the mathematical function $f$. It must take a vector  y and a time t, and return the new vector f(y,t).\n",
    "\n",
    "\n",
    "Some additional commands that you may need in your script:\n",
    "\n",
    "```python\n",
    "#lets import the modules # plotting everything inline\n",
    "# %matplotlib inline \n",
    "import matplotlib.pyplot as plt # plotting modules\n",
    "plt.style.use('presentation') # just have in your script for prettier plotting\n",
    "import numpy as np # our matlab-like module\n",
    "from scipy.integrate import odeint # integration of ODEs so you don't have to write your finite difference yourself\n",
    "```\n",
    "\n",
    "To plot your data use these commands:\n",
    "\n",
    "```python\n",
    "plt.plot(times, y_A_exact,'k--', label='analytical')\n",
    "plt.xlabel('$t [s]$')\n",
    "plt.ylabel('$C_A [moles]$')\n",
    "plt.legend()\n",
    "plt.savefig('odeint.pdf')\n",
    "plt.show()\n",
    "\n",
    "```\n",
    "\n",
    "\n",
    "\n"
   ]
  },
  {
   "cell_type": "code",
   "execution_count": 3,
   "metadata": {},
   "outputs": [
    {
     "name": "stderr",
     "output_type": "stream",
     "text": [
      "/Users/bazilevs/anaconda3/lib/python3.6/site-packages/matplotlib/figure.py:2022: UserWarning: This figure includes Axes that are not compatible with tight_layout, so results might be incorrect.\n",
      "  warnings.warn(\"This figure includes Axes that are not compatible \"\n"
     ]
    },
    {
     "data": {
      "image/png": "[encoded data removed]",
      "text/plain": [
       "<matplotlib.figure.Figure at 0x1513231b70>"
      ]
     },
     "metadata": {},
     "output_type": "display_data"
    }
   ],
   "source": [
    "#lets import the modules # plotting everything inline\n",
    "%matplotlib inline \n",
    "import matplotlib.pyplot as plt # plotting modules\n",
    "plt.style.use('presentation') # just have in your script for prettier plotting\n",
    "import numpy as np # our matlab-like module\n",
    "from scipy.integrate import odeint # integration of ODEs so you don't have to write your finite difference yourself\n",
    "\n",
    "#reaction order\n",
    "def f(y, t):\n",
    "    return -k*y\n",
    "\n",
    "k = 0.001 # L/(mol*sec)\n",
    "time_start = 0 #s\n",
    "time_finish = 10000 #s\n",
    "N_points = 50\n",
    "\n",
    "times = np.linspace(time_start,time_finish,N_points)\n",
    "y_A0 = 10. # moles\n",
    "\n",
    "y_A_calc = odeint(f, y_A0, times)\n",
    "plt.plot(times, y_A_calc, 'ro-', label='integrated')\n",
    "\n",
    "\n",
    "y_A_exact = y_A0*np.exp(-k*times)\n",
    "plt.plot(times, y_A_exact,'k--', label='analytical')\n",
    "\n",
    "\n",
    "plt.xlabel('$t [s]$')\n",
    "plt.ylabel('$C_A [moles]$')\n",
    "plt.legend()\n",
    "plt.savefig('odeint.pdf')\n",
    "plt.show()\n"
   ]
  },
  {
   "cell_type": "markdown",
   "metadata": {},
   "source": [
    "Now lets do the same calculation as the case number 1 but we will use the conversion factor $X_A$ as our variable:\n",
    "\n",
    "$X_A = \\dfrac{N_{A0} - N_A}{N_{A0}} = \\dfrac{C_{A0} - C_A}{C_{A0}}$ if the volume $V=const$\n",
    "\n",
    "So the design equation looks like:\n",
    "\n",
    "$\\dfrac{d X_A}{dt} = (-r_A/N_{A0}) V $\n"
   ]
  },
  {
   "cell_type": "code",
   "execution_count": 11,
   "metadata": {},
   "outputs": [
    {
     "name": "stdout",
     "output_type": "stream",
     "text": [
      "Once deleted, variables cannot be recovered. Proceed (y/[n])? y\n"
     ]
    },
    {
     "data": {
      "image/png": "[encoded data removed]",
      "text/plain": [
       "<matplotlib.figure.Figure at 0x10b92add0>"
      ]
     },
     "metadata": {},
     "output_type": "display_data"
    }
   ],
   "source": [
    "%reset\n",
    "\n",
    "%matplotlib inline\n",
    "import matplotlib.pyplot as plt # plotting modules\n",
    "plt.style.use('presentation') # just have in your script for prettier plotting\n",
    "import numpy as np # our matlab-like module\n",
    "from scipy.integrate import odeint # integration of ODEs so you don't have to write your finite difference yourself\n",
    "\n",
    "\n",
    "plt.clf()\n",
    "k=0.001\n",
    "y_A0 = 10.\n",
    "time_start = 0 #s\n",
    "time_finish = 10000 #s\n",
    "N_points = 50\n",
    "\n",
    "times = np.linspace(time_start,time_finish,N_points)\n",
    "\n",
    "y_A_exact = y_A0*np.exp(-k*times)\n",
    "\n",
    "x_A = ((y_A0 - y_A_exact)/y_A0)\n",
    "# print(y_A_exact)\n",
    "# print(x_A)\n",
    "plt.plot(times, x_A, 'ro-')\n",
    "\n",
    "plt.xlabel('$t [s]$')\n",
    "plt.ylabel('$X_A$')\n",
    "plt.legend()\n",
    "# plt.savefig('conversion factor.pdf')\n",
    "plt.show()\n"
   ]
  },
  {
   "cell_type": "markdown",
   "metadata": {},
   "source": [
    "## Problem 2:\n",
    "\n",
    "*2A ->B*\n",
    "\n",
    "We assume it is a first order reaction and we use the design equation from the Batch reactor:\n",
    "\n",
    "So that means that $-r_A = k [C_A]^2$.\n",
    "\n",
    "Lets assume $k = 10^{-3} 1/s$ and $C_A(t=0) = 10$ moles\n",
    "\n",
    "So we can expect that the half-time of A should be around 10000 seconds which is ~3 hours.\n",
    "\n",
    "Ok lets see that through Python.\n",
    "\n",
    "We want to track the concentration which we will call $y_A$.\n",
    "\n",
    "$dy_A/dt = - k C_A = -k y^2_A$\n",
    "\n",
    "The exact solution here would be\n",
    "\n",
    "$ 1/y_A = kt + C$\n",
    "$y_A(0) = 10$ => $C = 1/10$\n",
    "\n",
    "\n",
    "$1/y_A = kt + 1/y_A_0$\n",
    "\n",
    "So now it is easier to track $1/y_A$ rather than the function itself\n"
   ]
  },
  {
   "cell_type": "code",
   "execution_count": 39,
   "metadata": {},
   "outputs": [
    {
     "name": "stdout",
     "output_type": "stream",
     "text": [
      "Once deleted, variables cannot be recovered. Proceed (y/[n])? y\n"
     ]
    },
    {
     "name": "stderr",
     "output_type": "stream",
     "text": [
      "/Users/bazilevs/Downloads/yes/envs/mypython3/lib/python3.6/site-packages/matplotlib/figure.py:1999: UserWarning: This figure includes Axes that are not compatible with tight_layout, so results might be incorrect.\n",
      "  warnings.warn(\"This figure includes Axes that are not compatible \"\n"
     ]
    },
    {
     "data": {
      "image/png": "[encoded data removed]",
      "text/plain": [
       "<matplotlib.figure.Figure at 0x10b0d9390>"
      ]
     },
     "metadata": {},
     "output_type": "display_data"
    }
   ],
   "source": [
    "# %matplotlib inline \n",
    "%reset\n",
    "import matplotlib.pyplot as plt # plotting modules\n",
    "plt.style.use('presentation') # just have in your script for prettier plotting\n",
    "import numpy as np # our matlab-like module\n",
    "from scipy.integrate import odeint # integration of ODEs so you don't have to write your finite difference yourself\n",
    "\n",
    "#reaction order\n",
    "def f(y, t):\n",
    "    return -k*y**2\n",
    "\n",
    "k = 0.001 # 1/sec\n",
    "time_start = 0 #s\n",
    "time_finish = 10 #s\n",
    "N_points = 50\n",
    "\n",
    "times = np.linspace(time_start,time_finish,N_points)\n",
    "y_A0 = 10. # moles\n",
    "\n",
    "y_A_calc = odeint(f, y_A0, times)\n",
    "plt.plot(times, 1./y_A_calc, 'ro-', label='integrated')\n",
    "\n",
    "\n",
    "inverse_y_A_exact = (1/y_A0 + k*times)\n",
    "plt.plot(times, inverse_y_A_exact,'k--', label='analytical')\n",
    "\n",
    "\n",
    "plt.xlabel('$t [s]$')\n",
    "plt.ylabel('$1/C_A [moles]$')\n",
    "plt.legend()\n",
    "# plt.savefig('odeint.pdf')\n",
    "plt.show()"
   ]
  },
  {
   "cell_type": "markdown",
   "metadata": {
    "collapsed": true
   },
   "source": [
    "# Solving Algebraic equations in Python:\n",
    "\n",
    "\n",
    "Let's say we have a nonlinear equation \n",
    "\n",
    "$x^2 - log_{10}(x) = 1$\n",
    "\n",
    "The equation can be easily solved using the method of \"thorough observation\"\n",
    "\n",
    "x = 1 is the root\n",
    "\n",
    "How do we find it numerically?\n",
    "\n",
    "\n",
    "```python\n",
    "%matplotlib inline\n",
    "import matplotlib.pyplot as plt\n",
    "import numpy as np\n",
    "from scipy.optimize import fsolve\n",
    "```\n",
    "\n",
    "```python\n",
    "def func(x):\n",
    "    return x**2 - np.log10(x) - 1\n",
    "fsolve(func, 0.5)\n",
    "```\n",
    "\n",
    "And that is it! Nothing more! Imagine how useful that would be for the Thermo 346 course =)\n"
   ]
  },
  {
   "cell_type": "code",
   "execution_count": 16,
   "metadata": {},
   "outputs": [
    {
     "name": "stdout",
     "output_type": "stream",
     "text": [
      "1.0\n"
     ]
    }
   ],
   "source": [
    "%matplotlib inline\n",
    "import matplotlib.pyplot as plt\n",
    "import numpy as np\n",
    "from scipy.optimize import fsolve\n",
    "\n",
    "def func(x):\n",
    "    return x**2 - np.log10(x) - 1\n",
    "answer = fsolve(func, 0.5)\n",
    "print(answer[0])\n"
   ]
  },
  {
   "cell_type": "markdown",
   "metadata": {},
   "source": [
    "## Problem 3: CSTR \n",
    "\n",
    "From solving ODE now we are going to solve \"Simple\" algebraic equations.\n",
    "\n",
    "Given a continuously stirred tank reactor with a volume of $66 m^3$ where the reaction $A \\to B$ occurs, at a rate of $−r_A= k C^2_A$ ($k=3 L/mol/h$), with an entering molar flow of $F_{A0} = 5 mol/h$ and a volumetric flowrate of $\\upsilon = 10 L/h$, what is the exit concentration of A?\n",
    "\n",
    "From a mole balance we know that at steady state $0=F_{A0}−F_A+ V \\cdot r_A$. That equation simply states the sum of the molar flow of A in in minus the molar flow of A out plus the molar rate A is generated is equal to zero at steady state. This is directly the equation we need to solve. We need the following relationship:"
   ]
  },
  {
   "cell_type": "code",
   "execution_count": 21,
   "metadata": {},
   "outputs": [
    {
     "name": "stdout",
     "output_type": "stream",
     "text": [
      "The exit concentration is 0.005 mol/L\n"
     ]
    }
   ],
   "source": [
    "#Copyright (C) 2013 by John Kitchin\n",
    "\n",
    "from scipy.optimize import fsolve\n",
    "\n",
    "Fa0 = 5.0\n",
    "v0 = 10.\n",
    "\n",
    "V = 66000.0  # reactor volume L^3\n",
    "k = 3.0      # rate constant L/mol/h\n",
    "\n",
    "def func(Ca):\n",
    "    \"Mole balance for a CSTR. Solve this equation for func(Ca)=0\"\n",
    "    Fa = v0 * Ca     # exit molar flow of A\n",
    "    ra = -k * Ca**2  # rate of reaction of A L/mol/h\n",
    "    return Fa0 - Fa + V * ra\n",
    "\n",
    "# CA guess that that 90 % is reacted away\n",
    "CA_guess = 0.1 * Fa0 / v0\n",
    "CA_sol, = fsolve(func, CA_guess)\n",
    "\n",
    "print('The exit concentration is {0} mol/L'.format(CA_sol))"
   ]
  },
  {
   "cell_type": "code",
   "execution_count": null,
   "metadata": {
    "collapsed": true
   },
   "outputs": [],
   "source": []
  }
 ],
 "metadata": {
  "celltoolbar": "Slideshow",
  "kernelspec": {
   "display_name": "Python 3",
   "language": "python",
   "name": "python3"
  },
  "language_info": {
   "codemirror_mode": {
    "name": "ipython",
    "version": 3
   },
   "file_extension": ".py",
   "mimetype": "text/x-python",
   "name": "python",
   "nbconvert_exporter": "python",
   "pygments_lexer": "ipython3",
   "version": "3.6.4"
  }
 },
 "nbformat": 4,
 "nbformat_minor": 2
}
