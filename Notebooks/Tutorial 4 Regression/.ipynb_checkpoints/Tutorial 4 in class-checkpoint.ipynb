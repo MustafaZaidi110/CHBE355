{
 "cells": [
  {
   "cell_type": "code",
   "execution_count": 3,
   "metadata": {},
   "outputs": [
    {
     "name": "stdout",
     "output_type": "stream",
     "text": [
      "200\n"
     ]
    }
   ],
   "source": [
    "import numpy as np\n",
    "\n",
    "a = np.array([1, 11, 23, 13, 200, 10, 11])\n",
    "\n",
    "# find max of a\n",
    "\n",
    "# alogorithm mymax = a[0], \n",
    "# loop through array and if a[i] > a[0], then mymax = a[i]\n",
    "\n",
    "mymax = a[0]\n",
    "N = len(a)\n",
    "for i in range(N):\n",
    "#     print(i)\n",
    "    if a[i] > mymax:\n",
    "        mymax = a[i]\n",
    "print(mymax)"
   ]
  },
  {
   "cell_type": "code",
   "execution_count": 4,
   "metadata": {},
   "outputs": [
    {
     "ename": "SyntaxError",
     "evalue": "invalid syntax (<ipython-input-4-89c420770a5e>, line 10)",
     "output_type": "error",
     "traceback": [
      "\u001b[0;36m  File \u001b[0;32m\"<ipython-input-4-89c420770a5e>\"\u001b[0;36m, line \u001b[0;32m10\u001b[0m\n\u001b[0;31m    import scipy.integrate import odeint\u001b[0m\n\u001b[0m                                ^\u001b[0m\n\u001b[0;31mSyntaxError\u001b[0m\u001b[0;31m:\u001b[0m invalid syntax\n"
     ]
    }
   ],
   "source": [
    "# ODE\n",
    "# Batch reactor\n",
    "# -ra = k CA^2\n",
    "\n",
    "# dCA/dt = -ra = k CA^2\n",
    "\n",
    "# step 0 - modules\n",
    "import numpy as np #for arrays\n",
    "import matplotlib.pyplot as plt #for plotting\n",
    "import scipy.integrate import odeint\n",
    "\n",
    "# step 1 : define a function that needs to be solved\n",
    "# dy/dt = f(y,t)\n",
    "\n",
    "def f(y,t):\n",
    "    return k*y**2\n",
    "\n",
    "# step 2: define arrays\n",
    "# \n",
    "\n",
    "time_init = 0\n",
    "time_final = 10 \n",
    "N_points = 50\n",
    "time_array = np.linspace(time_init,time_final, N_points)\n",
    "\n",
    "k = 0.001\n",
    "C_A0 = 10.\n",
    "\n",
    "\n",
    "#step 3: solving the stuff\n",
    "# odeint(function, initial value, time array)\n",
    "C_A_calc = odeint(f, C_A0, time_array)\n",
    "\n",
    "#step 4: plotting\n",
    "# plt.plot(x, y, 'go-')\n",
    "plt.plot(time_array, C_A_calc, 'ro--')\n",
    "plt.show()\n",
    "\n",
    "\n"
   ]
  },
  {
   "cell_type": "code",
   "execution_count": null,
   "metadata": {},
   "outputs": [],
   "source": []
  }
 ],
 "metadata": {
  "kernelspec": {
   "display_name": "Python 3",
   "language": "python",
   "name": "python3"
  },
  "language_info": {
   "codemirror_mode": {
    "name": "ipython",
    "version": 3
   },
   "file_extension": ".py",
   "mimetype": "text/x-python",
   "name": "python",
   "nbconvert_exporter": "python",
   "pygments_lexer": "ipython3",
   "version": "3.6.4"
  }
 },
 "nbformat": 4,
 "nbformat_minor": 2
}
