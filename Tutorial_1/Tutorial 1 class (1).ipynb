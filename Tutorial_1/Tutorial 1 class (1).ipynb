{
 "cells": [
  {
   "cell_type": "code",
   "execution_count": 1,
   "metadata": {},
   "outputs": [
    {
     "name": "stdout",
     "output_type": "stream",
     "text": [
      "-1\n"
     ]
    }
   ],
   "source": [
    "a = 1\n",
    "b = 2\n",
    "\n",
    "print(a-b)\n"
   ]
  },
  {
   "cell_type": "code",
   "execution_count": 2,
   "metadata": {},
   "outputs": [
    {
     "name": "stdout",
     "output_type": "stream",
     "text": [
      "-1\n"
     ]
    }
   ],
   "source": [
    "c = a - b \n",
    "print(c)"
   ]
  },
  {
   "cell_type": "code",
   "execution_count": 3,
   "metadata": {},
   "outputs": [
    {
     "name": "stdout",
     "output_type": "stream",
     "text": [
      "2 0.5\n"
     ]
    }
   ],
   "source": [
    "d = a*b\n",
    "e = a/b\n",
    "print(d, e)"
   ]
  },
  {
   "cell_type": "code",
   "execution_count": 4,
   "metadata": {},
   "outputs": [
    {
     "data": {
      "text/plain": [
       "3.0"
      ]
     },
     "execution_count": 4,
     "metadata": {},
     "output_type": "execute_result"
    }
   ],
   "source": [
    "9**(0.5)\n"
   ]
  },
  {
   "cell_type": "code",
   "execution_count": 6,
   "metadata": {},
   "outputs": [
    {
     "name": "stdout",
     "output_type": "stream",
     "text": [
      "600.0\n"
     ]
    }
   ],
   "source": [
    "# x, y, z = 3, 4, 5\n",
    "x = 3\n",
    "y = 4\n",
    "z = 5\n",
    "\n",
    "s = (x+y+z)/2.0\n",
    "A = (s*(s-x)*(s-y)*(s-z))**0.5\n",
    "\n",
    "\n",
    "\n",
    "b = 30\n",
    "h = 40\n",
    "A = 0.5*h*b\n",
    "print(A)\n"
   ]
  },
  {
   "cell_type": "code",
   "execution_count": 7,
   "metadata": {},
   "outputs": [
    {
     "name": "stdout",
     "output_type": "stream",
     "text": [
      "8.0\n"
     ]
    }
   ],
   "source": [
    "#area of a trapz\n",
    "a1 = 3\n",
    "b1  = 5\n",
    "h = 2\n",
    "A_trapezoid = h*(a1+b1)/2\n",
    "print(A_trapezoid) # use tab for autocomplete\n"
   ]
  },
  {
   "cell_type": "code",
   "execution_count": 10,
   "metadata": {},
   "outputs": [
    {
     "name": "stdout",
     "output_type": "stream",
     "text": [
      "2493000.0\n"
     ]
    }
   ],
   "source": [
    "#CHBE problem\n",
    "V = 1 #l\n",
    "R = 8.31 #J/(mol K)\n",
    "T = 27 #C\n",
    "n = 1\n",
    "#if n = 1\n",
    "#p ?\n",
    "P = n*R*(T+273)/(V/1000.)\n",
    "print(P)"
   ]
  },
  {
   "cell_type": "code",
   "execution_count": 11,
   "metadata": {},
   "outputs": [
    {
     "name": "stdout",
     "output_type": "stream",
     "text": [
      "[1.0, 2.0, 3.0, 4.0]\n"
     ]
    }
   ],
   "source": [
    "#lists\n",
    "\n",
    "a_list = [1.0, 2.0, 3.0, 4.0]\n",
    "print(a_list)"
   ]
  },
  {
   "cell_type": "code",
   "execution_count": 12,
   "metadata": {},
   "outputs": [
    {
     "data": {
      "text/plain": [
       "1.0"
      ]
     },
     "execution_count": 12,
     "metadata": {},
     "output_type": "execute_result"
    }
   ],
   "source": [
    "a_list[0]"
   ]
  },
  {
   "cell_type": "code",
   "execution_count": 13,
   "metadata": {},
   "outputs": [
    {
     "data": {
      "text/plain": [
       "4.0"
      ]
     },
     "execution_count": 13,
     "metadata": {},
     "output_type": "execute_result"
    }
   ],
   "source": [
    "a_list[-1]"
   ]
  },
  {
   "cell_type": "code",
   "execution_count": 14,
   "metadata": {},
   "outputs": [
    {
     "data": {
      "text/plain": [
       "[2.0, 3.0, 4.0]"
      ]
     },
     "execution_count": 14,
     "metadata": {},
     "output_type": "execute_result"
    }
   ],
   "source": [
    "a_list[1:]\n"
   ]
  },
  {
   "cell_type": "code",
   "execution_count": 15,
   "metadata": {},
   "outputs": [
    {
     "data": {
      "text/plain": [
       "[1.0, 2.0, 3.0, 4.0]"
      ]
     },
     "execution_count": 15,
     "metadata": {},
     "output_type": "execute_result"
    }
   ],
   "source": [
    "a_list[:]\n"
   ]
  },
  {
   "cell_type": "code",
   "execution_count": 16,
   "metadata": {},
   "outputs": [
    {
     "data": {
      "text/plain": [
       "[1.0, 2.0, 3.0, 4.0]"
      ]
     },
     "execution_count": 16,
     "metadata": {},
     "output_type": "execute_result"
    }
   ],
   "source": [
    "a_list"
   ]
  },
  {
   "cell_type": "code",
   "execution_count": 17,
   "metadata": {},
   "outputs": [
    {
     "name": "stdout",
     "output_type": "stream",
     "text": [
      "1.0\n",
      "2.0\n",
      "3.0\n",
      "4.0\n"
     ]
    }
   ],
   "source": [
    "# loops \n",
    "for i in a_list:\n",
    "    print(i)"
   ]
  },
  {
   "cell_type": "code",
   "execution_count": 18,
   "metadata": {},
   "outputs": [],
   "source": [
    "# conditionals\n"
   ]
  },
  {
   "cell_type": "code",
   "execution_count": 19,
   "metadata": {},
   "outputs": [],
   "source": [
    "if 1>2:\n",
    "    print(\"This is false\")"
   ]
  },
  {
   "cell_type": "code",
   "execution_count": 22,
   "metadata": {},
   "outputs": [
    {
     "name": "stdout",
     "output_type": "stream",
     "text": [
      "I am in else\n"
     ]
    }
   ],
   "source": [
    "if 2<1:\n",
    "    print(\"I am in the if\")\n",
    "elif 0>2:\n",
    "    print(\"I am in the elif\")\n",
    "else:\n",
    "    print(\"I am in else\")"
   ]
  },
  {
   "cell_type": "code",
   "execution_count": 26,
   "metadata": {},
   "outputs": [
    {
     "name": "stdout",
     "output_type": "stream",
     "text": [
      "I will no go here\n"
     ]
    }
   ],
   "source": [
    "if (True) or (False):\n",
    "    print(\"I will no go here\")\n",
    "if (True) and (False):\n",
    "    print(\"I will no go here\")\n",
    "    "
   ]
  },
  {
   "cell_type": "code",
   "execution_count": 33,
   "metadata": {},
   "outputs": [
    {
     "name": "stdout",
     "output_type": "stream",
     "text": [
      "10\n",
      "2\n"
     ]
    }
   ],
   "source": [
    "#random things\n",
    "import random\n",
    "r = random.randint(1,10)\n",
    "print(r)\n",
    "\n",
    "print(abs(-2))\n"
   ]
  },
  {
   "cell_type": "code",
   "execution_count": 35,
   "metadata": {},
   "outputs": [
    {
     "data": {
      "text/plain": [
       "True"
      ]
     },
     "execution_count": 35,
     "metadata": {},
     "output_type": "execute_result"
    }
   ],
   "source": [
    "2 >= 1"
   ]
  },
  {
   "cell_type": "code",
   "execution_count": 36,
   "metadata": {},
   "outputs": [
    {
     "name": "stdout",
     "output_type": "stream",
     "text": [
      "False\n"
     ]
    }
   ],
   "source": [
    "mynumber = 4\n",
    "print(abs(r-mynumber)<=1)"
   ]
  },
  {
   "cell_type": "code",
   "execution_count": 39,
   "metadata": {},
   "outputs": [
    {
     "name": "stdout",
     "output_type": "stream",
     "text": [
      "5\n",
      "vikram wins\n"
     ]
    }
   ],
   "source": [
    "import random\n",
    "r = random.randint(1,10)\n",
    "print(r)\n",
    "vikram_number = 5\n",
    "if (vikram_number - r)<=1:\n",
    "    print(\"vikram wins\")\n",
    "elif (vikram_number - r)<=2:\n",
    "    print(\"felicia wins\")\n",
    "else:\n",
    "    print(\"chbe wins\")"
   ]
  },
  {
   "cell_type": "code",
   "execution_count": 41,
   "metadata": {},
   "outputs": [
    {
     "name": "stdout",
     "output_type": "stream",
     "text": [
      "myparam =  2\n",
      "2\n"
     ]
    }
   ],
   "source": [
    "def name_of_a_func(input_param):\n",
    "    print(\"myparam = \", input_param)\n",
    "    return input_param\n",
    "\n",
    "b = name_of_a_func(2)\n",
    "print(b)"
   ]
  },
  {
   "cell_type": "code",
   "execution_count": 42,
   "metadata": {},
   "outputs": [
    {
     "data": {
      "text/plain": [
       "30.48"
      ]
     },
     "execution_count": 42,
     "metadata": {},
     "output_type": "execute_result"
    }
   ],
   "source": [
    "def inch_2_cm(param_inch):\n",
    "    return param_inch*2.54\n",
    "#     return ... cm\n",
    "#    return None\n",
    "\n",
    "inch_2_cm(12)"
   ]
  },
  {
   "cell_type": "code",
   "execution_count": 43,
   "metadata": {},
   "outputs": [
    {
     "data": {
      "text/plain": [
       "32.0"
      ]
     },
     "execution_count": 43,
     "metadata": {},
     "output_type": "execute_result"
    }
   ],
   "source": [
    "#Tf = 1.8*Tc + 32\n",
    "# write a function\n",
    "def C_to_F(Tc):\n",
    "    return Tc*1.8 + 32.\n",
    "C_to_F(0)"
   ]
  },
  {
   "cell_type": "code",
   "execution_count": 47,
   "metadata": {},
   "outputs": [
    {
     "name": "stdout",
     "output_type": "stream",
     "text": [
      "myfib =  1\n",
      "myfib =  2\n",
      "myfib =  3\n",
      "myfib =  5\n",
      "myfib =  8\n",
      "myfib =  13\n",
      "myfib =  21\n",
      "myfib =  34\n",
      "fsum  87\n"
     ]
    },
    {
     "data": {
      "text/plain": [
       "87"
      ]
     },
     "execution_count": 47,
     "metadata": {},
     "output_type": "execute_result"
    }
   ],
   "source": [
    "nterm = 10\n",
    "def Fib_sum(nterm):\n",
    "#     f_sum \n",
    "#     f_sum = 0 + 1+ 1 + 2 + 3 ...\n",
    "# if nterm = 0 => f_sum = 0\n",
    "# if nterm = 1 => f_sum = 1\n",
    "# nterm>1 => f_sum = sum (i =0, 1 ....[(n-1)+(n-2)])\n",
    "    if nterm == 0:\n",
    "        return 0\n",
    "    elif nterm == 1:\n",
    "        return 1\n",
    "    else:\n",
    "        f_sum = 0\n",
    "        my_n_fib_number_old = 0\n",
    "        my_n_fib_number_new = 1\n",
    "        for i in range(2,nterm):\n",
    "            my_n_fib_number = my_n_fib_number_new + my_n_fib_number_old\n",
    "            print(\"myfib = \", my_n_fib_number)\n",
    "            f_sum = f_sum + my_n_fib_number\n",
    "            my_n_fib_number_old = my_n_fib_number_new\n",
    "            my_n_fib_number_new = my_n_fib_number\n",
    "        print(\"fsum \", f_sum)\n",
    "        return f_sum\n",
    "Fib_sum(10)"
   ]
  },
  {
   "cell_type": "code",
   "execution_count": null,
   "metadata": {},
   "outputs": [],
   "source": []
  }
 ],
 "metadata": {
  "kernelspec": {
   "display_name": "Python 3",
   "language": "python",
   "name": "python3"
  },
  "language_info": {
   "codemirror_mode": {
    "name": "ipython",
    "version": 3
   },
   "file_extension": ".py",
   "mimetype": "text/x-python",
   "name": "python",
   "nbconvert_exporter": "python",
   "pygments_lexer": "ipython3",
   "version": "3.6.4"
  }
 },
 "nbformat": 4,
 "nbformat_minor": 2
}
