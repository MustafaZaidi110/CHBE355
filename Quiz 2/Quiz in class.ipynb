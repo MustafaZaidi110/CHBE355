{
 "cells": [
  {
   "cell_type": "markdown",
   "metadata": {},
   "source": [
    "## Problem 1 : Solving systems of ODEs\n",
    "You are given an Isothermal Plug Flow Reactor in which components A and C are fed in equimolar amounts, and the follow- ing reaction takes place\n",
    "$2 A \\to B$, with $C$ as a third non-reacting component.\n",
    "You assume that the reaction takes place in the liquid phase and that the volumetric flow rate remains constant even when reaction occurs.\n",
    "\n",
    "The equations for all three species in the plug flow reactor are:\n",
    "\n",
    "$u \\dfrac{dC_i}{dz} =r_j$, j = 1,...,3\n",
    "\n",
    "$C_A$ (0) = 2 kmol/m3, $C_B$ (0) = 0, $C_C$ (0) = 2 kmol/m^3\n",
    "and we take u = 0.5 m/s, k = 0.3 m^3/kmol s, and the total reactor length as z = 2.4 m.\n",
    "\n",
    "1. Find and plot:\n",
    "\n",
    "$C_A(z), C_B(z), C_C(z)$"
   ]
  },
  {
   "cell_type": "code",
   "execution_count": null,
   "metadata": {},
   "outputs": [],
   "source": []
  },
  {
   "cell_type": "markdown",
   "metadata": {},
   "source": [
    "## Problem 2: Solving algebraic equations\n",
    "\n",
    "The heat of reaction for a certain reaction is given by $\\Delta H^o_r(T)=−24097−0.26 \\cdot T + 1.69 \\cdot 10^{−3}T^2+1.5\\cdot10^5 / T$ \n",
    "cal/mol. \n",
    "\n",
    "1. Compute the temperature at which $\\Delta H^o_r(T)=−23505$ cal/mol.\n",
    "2. For different temperatures plot a graph of $\\Delta H^o_r(T)$\n",
    "\n",
    "use the temperature range from 50 to 999 \n",
    "(you can assume the units to be $^{o}C$"
   ]
  },
  {
   "cell_type": "markdown",
   "metadata": {},
   "source": []
  },
  {
   "cell_type": "code",
   "execution_count": null,
   "metadata": {},
   "outputs": [],
   "source": []
  },
  {
   "cell_type": "markdown",
   "metadata": {},
   "source": [
    "## Problem 3 (Bonus)\n",
    "\n",
    "Solve $\\dfrac{dy}{dt}=f(y,t)$, $y(0)=y_0$, with N_points=40 steps until t=time_finish=10, $y_0 = 1.$\n",
    "\n",
    "$f(y, t) = -2 \\cdot y$\n",
    "\n",
    "1. Calculate and plot the analytical solution to this ODE (with black solid line 'k-')\n",
    "\n",
    "2. Solve the ODE using the simple Forward Euler scheme. Plot it using red dashed line ('r--')\n",
    "```python\n",
    "    t[k+1] = t[k] + dt\n",
    "    y[k+1] = y[k] + dt*f(y[k], t[k])\n",
    "```\n",
    "Comment on the accuracy of the simple Forward Euler scheme\n",
    "\n",
    "3. Solve the equation using Runge-Kutta method. Plot the solution.\n",
    "\n",
    "```python\n",
    "    t[k+1] = t[k] + dt\n",
    "    y_star = y[k] + dt*f(y[k], t[k])\n",
    "    y[k+1] = y[k] + 0.5*dt*f(y[k], t[k]) + 0.5*dt*f(y_star, t[k+1])\n",
    "```\n",
    "Comment on the accuracy of the Runge-Kutta method.\n"
   ]
  },
  {
   "cell_type": "markdown",
   "metadata": {},
   "source": [
    "## Problem 4: Data regression\n",
    "\n",
    "1. Fit the data using $y(x) = A \\cdot x^{\\alpha}$.\n",
    "2. Print the parameters A, $\\alpha$ that provide the best fit. \n",
    "3. Plot the data points with circles and the fitted curve with a solid line\n",
    "4. Calculate the $\\chi^2$ which is the squared difference between each data point and the predicted curve:\n",
    "\n",
    "$$\\chi^2 = \\Sigma (data[i] - FittedCurve[i])^2$$\n",
    "\n",
    "\n",
    "```python\n",
    "xdata = np.array([ 0.        ,  0.34482759,  0.68965517,  1.03448276,  1.37931034,\n",
    "        1.72413793,  2.06896552,  2.4137931 ,  2.75862069,  3.10344828,\n",
    "        3.44827586,  3.79310345,  4.13793103,  4.48275862,  4.82758621,\n",
    "        5.17241379,  5.51724138,  5.86206897,  6.20689655,  6.55172414,\n",
    "        6.89655172,  7.24137931,  7.5862069 ,  7.93103448,  8.27586207,\n",
    "        8.62068966,  8.96551724,  9.31034483,  9.65517241, 10.        ])\n",
    "ydata = np.array([  167.2725507 ,   106.16914857,    41.10677407,    32.46301312,\n",
    "         275.03411655,   -39.24097532,    38.94035796,   226.68658612,\n",
    "         -14.49192858,   327.88376208,   275.78034462,   951.86094163,\n",
    "         756.67008989,   791.13135981,  1006.52714599,  1454.26168144,\n",
    "        1732.68330785,  1721.27067228,  2368.93945747,  2670.11523175,\n",
    "        3501.20879412,  3799.49281404,  4578.21264294,  5083.0998124 ,\n",
    "        5586.56113083,  6608.43402806,  7060.16302214,  8208.65917808,\n",
    "        9045.44567227, 10040.46032897])\n",
    "```"
   ]
  },
  {
   "cell_type": "code",
   "execution_count": 5,
   "metadata": {},
   "outputs": [],
   "source": [
    "from scipy.optimize import curve_fit\n",
    "xdata = np.array([ 0.        ,  0.34482759,  0.68965517,  1.03448276,  1.37931034,\n",
    "        1.72413793,  2.06896552,  2.4137931 ,  2.75862069,  3.10344828,\n",
    "        3.44827586,  3.79310345,  4.13793103,  4.48275862,  4.82758621,\n",
    "        5.17241379,  5.51724138,  5.86206897,  6.20689655,  6.55172414,\n",
    "        6.89655172,  7.24137931,  7.5862069 ,  7.93103448,  8.27586207,\n",
    "        8.62068966,  8.96551724,  9.31034483,  9.65517241, 10.        ])\n",
    "ydata = np.array([  167.2725507 ,   106.16914857,    41.10677407,    32.46301312,\n",
    "         275.03411655,   -39.24097532,    38.94035796,   226.68658612,\n",
    "         -14.49192858,   327.88376208,   275.78034462,   951.86094163,\n",
    "         756.67008989,   791.13135981,  1006.52714599,  1454.26168144,\n",
    "        1732.68330785,  1721.27067228,  2368.93945747,  2670.11523175,\n",
    "        3501.20879412,  3799.49281404,  4578.21264294,  5083.0998124 ,\n",
    "        5586.56113083,  6608.43402806,  7060.16302214,  8208.65917808,\n",
    "        9045.44567227, 10040.46032897])\n"
   ]
  },
  {
   "cell_type": "code",
   "execution_count": null,
   "metadata": {},
   "outputs": [],
   "source": []
  }
 ],
 "metadata": {
  "kernelspec": {
   "display_name": "Python 3",
   "language": "python",
   "name": "python3"
  },
  "language_info": {
   "codemirror_mode": {
    "name": "ipython",
    "version": 3
   },
   "file_extension": ".py",
   "mimetype": "text/x-python",
   "name": "python",
   "nbconvert_exporter": "python",
   "pygments_lexer": "ipython3",
   "version": "3.6.4"
  }
 },
 "nbformat": 4,
 "nbformat_minor": 2
}
